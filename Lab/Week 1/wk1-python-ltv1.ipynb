{
 "cells": [
  {
   "cell_type": "markdown",
   "metadata": {},
   "source": [
    "# Basic Python"
   ]
  },
  {
   "cell_type": "markdown",
   "metadata": {},
   "source": [
    "## String Formatting ##\n",
    "\n",
    "Joining strings using the “+” and quotation operators. Another method is the join() method, which takes a list of strings and combines them into one string.\n"
   ]
  },
  {
   "cell_type": "code",
   "execution_count": 1,
   "metadata": {},
   "outputs": [
    {
     "name": "stdout",
     "output_type": "stream",
     "text": [
      "Joel the Programmer\n"
     ]
    }
   ],
   "source": [
    "name = \"Joel\"\n",
    "job = \"Programmer\"\n",
    "title = name + \" the \" + job\n",
    "\n",
    "print(title)"
   ]
  },
  {
   "cell_type": "markdown",
   "metadata": {},
   "source": [
    "## Comparison Operators ##\n",
    "\n",
    "Comparison operators evaluate to a Boolean result: either True or False"
   ]
  },
  {
   "cell_type": "code",
   "execution_count": 2,
   "metadata": {},
   "outputs": [
    {
     "name": "stdout",
     "output_type": "stream",
     "text": [
      "True\n",
      "False\n",
      "True\n",
      "True\n",
      "True\n",
      "True\n"
     ]
    }
   ],
   "source": [
    "x = 10\n",
    "print(x == 10) # True\n",
    "print(x != 10) # False\n",
    "#print(x <> 10) # no longer valid in Python 3\n",
    "print(x > 5) # True\n",
    "print(x < 15) # True\n",
    "print(x >= 10) # True\n",
    "print(x <= 10) # True\n"
   ]
  },
  {
   "cell_type": "markdown",
   "metadata": {},
   "source": [
    "## The in Operator\n",
    "\n",
    "The in operator allows you to check if a value exists within an iterable object, like a list or a dictionary.\n"
   ]
  },
  {
   "cell_type": "code",
   "execution_count": 3,
   "metadata": {},
   "outputs": [
    {
     "name": "stdout",
     "output_type": "stream",
     "text": [
      "I am not available on that day\n"
     ]
    }
   ],
   "source": [
    "availability = [\"Monday\", \"Tuesday\", \"Friday\"]\n",
    "request = \"Saturday\"\n",
    "#request = \"Monday\"\n",
    "if request in availability:\n",
    "    print(\"I am available on that day!\")\n",
    "else:\n",
    "    print(\"I am not available on that day\")"
   ]
  },
  {
   "cell_type": "markdown",
   "metadata": {},
   "source": [
    "## The is and not Operators ##\n",
    "\n",
    "The ==, !=, operators are used to compare the values of two variables. \n",
    "\n",
    "Use the is operator to check if two variables point to the same exact object.\n",
    "\n",
    "Use the not operator to negate a Boolean value"
   ]
  },
  {
   "cell_type": "code",
   "execution_count": 4,
   "metadata": {},
   "outputs": [
    {
     "name": "stdout",
     "output_type": "stream",
     "text": [
      "True\n",
      "False\n",
      "False\n",
      "True\n",
      "Do something\n"
     ]
    }
   ],
   "source": [
    "a = [1,2,3]\n",
    "b = [1,2,3]\n",
    "c = a\n",
    "\n",
    "print(a == b) # True\n",
    "print(a != b) # False\n",
    "\n",
    "# Use the is operator to check if two variables point to the same exact object.\n",
    "print(a is b) # False - a and b not pointing to the same object\n",
    "print(a is c) # True - c is pointing to a\n",
    "\n",
    "# Use the not operator to negate a Boolean value\n",
    "if a is not b: # True\n",
    "    print(\"Do something\")"
   ]
  },
  {
   "cell_type": "markdown",
   "metadata": {},
   "source": [
    "## Loops\n",
    "\n",
    "The most basic type of loop in Python is the while loop, which keeps repeating as long as the conditional statement is True.\n"
   ]
  },
  {
   "cell_type": "code",
   "execution_count": 5,
   "metadata": {},
   "outputs": [
    {
     "name": "stdout",
     "output_type": "stream",
     "text": [
      "0\n",
      "1\n",
      "2\n",
      "3\n",
      "4\n",
      "5\n",
      "6\n",
      "7\n",
      "8\n",
      "9\n"
     ]
    }
   ],
   "source": [
    "i = 0\n",
    "while i < 10:\n",
    "    print(i)\n",
    "    i = i + 1"
   ]
  },
  {
   "cell_type": "markdown",
   "metadata": {},
   "source": [
    "## Exiting the loop ##\n",
    "\n",
    "The break statement is used to immediately exit out of a loop. \n",
    "\n",
    "If you just want to skip the rest of the current loop and start the next iteration, use continue."
   ]
  },
  {
   "cell_type": "code",
   "execution_count": 6,
   "metadata": {},
   "outputs": [
    {
     "name": "stdout",
     "output_type": "stream",
     "text": [
      "0\n",
      "1\n",
      "2\n",
      "3\n",
      "4\n",
      "5\n",
      "6\n",
      "7\n",
      "8\n",
      "9\n"
     ]
    }
   ],
   "source": [
    "# use break to immediately exit out of a loop.\n",
    "\n",
    "i = 0\n",
    "while True:\n",
    "    print(i)\n",
    "    i = i + 1\n",
    "    if i >= 10:\n",
    "        break"
   ]
  },
  {
   "cell_type": "code",
   "execution_count": 7,
   "metadata": {},
   "outputs": [
    {
     "name": "stdout",
     "output_type": "stream",
     "text": [
      "Current Letter : P\n",
      "Current Letter : y\n",
      "Current Letter : t\n",
      "Current Letter : o\n",
      "Current Letter : n\n"
     ]
    }
   ],
   "source": [
    "# If you just want to skip the rest of the current loop and start the next iteration, use continue.\n",
    "\n",
    "for letter in 'Python':\n",
    "    if letter == 'h':\n",
    "        continue\n",
    "    print('Current Letter : ' + letter)"
   ]
  },
  {
   "cell_type": "markdown",
   "metadata": {},
   "source": [
    "The for loop iterates over an iterable object (like a list or dictionary) using the in operator"
   ]
  },
  {
   "cell_type": "code",
   "execution_count": 8,
   "metadata": {},
   "outputs": [
    {
     "name": "stdout",
     "output_type": "stream",
     "text": [
      "Monday\n",
      "Tuesday\n",
      "Wednesday\n",
      "Thursday\n",
      "Friday\n"
     ]
    }
   ],
   "source": [
    "weekdays = [\"Monday\", \"Tuesday\", \"Wednesday\", \"Thursday\", \"Friday\"]\n",
    "for day in weekdays:\n",
    "    print(day)"
   ]
  },
  {
   "cell_type": "markdown",
   "metadata": {},
   "source": [
    "## Dictionary\n",
    "\n",
    "A dictionary maps a set of objects (keys) to another set of objects (values). A Python dictionary is a mapping of unique keys to values.\n",
    "\n",
    "Use {} curly brackets to construct the dictionary, and [] square brackets to index it. \n"
   ]
  },
  {
   "cell_type": "code",
   "execution_count": 9,
   "metadata": {},
   "outputs": [
    {
     "name": "stdout",
     "output_type": "stream",
     "text": [
      "10\n",
      "20\n",
      "Can be number, string, list, etc\n"
     ]
    }
   ],
   "source": [
    "d = {}\n",
    "d[\"key_one\"] = 10\n",
    "d[1] = 20\n",
    "d[\"another_key\"] = \"Can be number, string, list, etc\"\n",
    "\n",
    "print(d[\"key_one\"])\n",
    "print(d[1])\n",
    "print(d[\"another_key\"])\n"
   ]
  },
  {
   "cell_type": "code",
   "execution_count": null,
   "metadata": {},
   "outputs": [],
   "source": []
  }
 ],
 "metadata": {
  "kernelspec": {
   "display_name": "Python 2",
   "language": "python",
   "name": "python2"
  },
  "language_info": {
   "codemirror_mode": {
    "name": "ipython",
    "version": 2
   },
   "file_extension": ".py",
   "mimetype": "text/x-python",
   "name": "python",
   "nbconvert_exporter": "python",
   "pygments_lexer": "ipython2",
   "version": "2.7.16"
  }
 },
 "nbformat": 4,
 "nbformat_minor": 4
}
